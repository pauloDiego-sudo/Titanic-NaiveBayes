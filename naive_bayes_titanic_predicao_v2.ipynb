{
 "cells": [
  {
   "cell_type": "markdown",
   "id": "e42d7167",
   "metadata": {},
   "source": [
    "\n",
    "# Predição de Sobrevivência de Passageiros do Titanic usando Naive Bayes\n",
    "\n",
    "Este notebook irá demonstrar como aplicar o algoritmo de Naive Bayes para prever se um passageiro do Titanic sobreviveu ou não, com base em um conjunto de características. \n",
    "\n",
    "Além de explicar passo a passo o processo de treinamento do modelo, o notebook também irá salvar o modelo treinado e utilizá-lo para fazer previsões.\n",
    "\n",
    "## O que é o Algoritmo de Naive Bayes?\n",
    "\n",
    "Naive Bayes é um algoritmo de classificação baseado no teorema de Bayes, que assume que as características são independentes umas das outras. Ele é chamado de \"ingênuo\" (naive) porque essa suposição raramente é verdadeira na prática, mas o algoritmo ainda pode funcionar bem em muitos cenários.\n",
    "\n",
    "Vamos aplicar este algoritmo ao nosso problema para prever se os passageiros sobreviveram ou não ao naufrágio do Titanic.\n"
   ]
  },
  {
   "cell_type": "code",
   "execution_count": null,
   "id": "71422dbc",
   "metadata": {},
   "outputs": [],
   "source": [
    "\n",
    "# Importando as bibliotecas necessárias\n",
    "import pandas as pd\n",
    "\n",
    "# Carregando o dataset\n",
    "data = pd.read_csv('/mnt/data/train.csv')\n",
    "\n",
    "# Exibindo as primeiras linhas para entender a estrutura dos dados\n",
    "data.head()\n"
   ]
  },
  {
   "cell_type": "markdown",
   "id": "49a37160",
   "metadata": {},
   "source": [
    "\n",
    "## Explorando o Dataset\n",
    "\n",
    "O dataset contém diversas informações sobre os passageiros do Titanic, como:\n",
    "\n",
    "- **Survived**: Se o passageiro sobreviveu (1) ou não (0).\n",
    "- **Pclass**: A classe do passageiro (1ª, 2ª, 3ª).\n",
    "- **Sex**: Gênero do passageiro.\n",
    "- **Age**: Idade do passageiro.\n",
    "- **SibSp**: Número de irmãos/cônjuges a bordo.\n",
    "- **Parch**: Número de pais/filhos a bordo.\n",
    "- **Fare**: Tarifa paga pelo passageiro.\n",
    "- **Embarked**: Porto de embarque.\n",
    "\n",
    "Vamos utilizar essas colunas para treinar nosso modelo de Naive Bayes.\n"
   ]
  },
  {
   "cell_type": "code",
   "execution_count": null,
   "id": "ceea98af",
   "metadata": {},
   "outputs": [],
   "source": [
    "\n",
    "# Removendo colunas desnecessárias\n",
    "data_cleaned = data.drop(columns=['PassengerId', 'Name', 'Ticket', 'Cabin'])\n",
    "\n",
    "# Preenchendo valores ausentes\n",
    "data_cleaned['Age'].fillna(data_cleaned['Age'].median(), inplace=True)\n",
    "data_cleaned['Fare'].fillna(data_cleaned['Fare'].median(), inplace=True)\n",
    "data_cleaned['Embarked'].fillna(data_cleaned['Embarked'].mode()[0], inplace=True)\n",
    "\n",
    "# Codificando variáveis categóricas\n",
    "from sklearn.preprocessing import LabelEncoder\n",
    "label_encoder_sex = LabelEncoder()\n",
    "label_encoder_embarked = LabelEncoder()\n",
    "data_cleaned['Sex'] = label_encoder_sex.fit_transform(data_cleaned['Sex'])\n",
    "data_cleaned['Embarked'] = label_encoder_embarked.fit_transform(data_cleaned['Embarked'])\n",
    "\n",
    "# Exibindo os dados limpos\n",
    "data_cleaned.head()\n"
   ]
  },
  {
   "cell_type": "markdown",
   "id": "cbb64e35",
   "metadata": {},
   "source": [
    "\n",
    "## Preparação dos Dados\n",
    "\n",
    "Removemos as colunas irrelevantes para a predição e tratamos os valores ausentes. Além disso, codificamos variáveis categóricas como `Sex` e `Embarked` para que possam ser utilizadas pelo algoritmo de aprendizado de máquina.\n"
   ]
  },
  {
   "cell_type": "code",
   "execution_count": null,
   "id": "2a1847d0",
   "metadata": {},
   "outputs": [],
   "source": [
    "\n",
    "# Separando as features e o target\n",
    "X = data_cleaned.drop(columns=['Survived'])\n",
    "y = data_cleaned['Survived']\n",
    "\n",
    "# Dividindo os dados em treino e teste\n",
    "from sklearn.model_selection import train_test_split\n",
    "X_train, X_test, y_train, y_test = train_test_split(X, y, test_size=0.2, random_state=42)\n",
    "\n",
    "# Treinando o modelo de Naive Bayes\n",
    "from sklearn.naive_bayes import GaussianNB\n",
    "nb_model = GaussianNB()\n",
    "nb_model.fit(X_train, y_train)\n",
    "\n",
    "# Avaliando a acurácia no conjunto de teste\n",
    "y_pred = nb_model.predict(X_test)\n",
    "from sklearn.metrics import accuracy_score\n",
    "accuracy = accuracy_score(y_test, y_pred)\n",
    "accuracy\n"
   ]
  },
  {
   "cell_type": "markdown",
   "id": "b8e174a6",
   "metadata": {},
   "source": [
    "\n",
    "## Treinamento do Modelo\n",
    "\n",
    "Após a preparação dos dados, treinamos o modelo de Naive Bayes. A acurácia obtida no conjunto de teste mostra o desempenho do modelo.\n"
   ]
  },
  {
   "cell_type": "code",
   "execution_count": null,
   "id": "25bd146e",
   "metadata": {},
   "outputs": [],
   "source": [
    "\n",
    "# Salvando o modelo treinado\n",
    "import joblib\n",
    "joblib.dump(nb_model, '/mnt/data/naive_bayes_titanic_model.pkl')\n"
   ]
  },
  {
   "cell_type": "markdown",
   "id": "3d971afb",
   "metadata": {},
   "source": [
    "\n",
    "## Salvando o Modelo\n",
    "\n",
    "Aqui salvamos o modelo treinado em um arquivo, para que possamos reutilizá-lo sem precisar treiná-lo novamente.\n"
   ]
  },
  {
   "cell_type": "code",
   "execution_count": null,
   "id": "506d0c4f",
   "metadata": {},
   "outputs": [],
   "source": [
    "\n",
    "# Carregando o modelo salvo e fazendo previsões\n",
    "loaded_model = joblib.load('/mnt/data/naive_bayes_titanic_model.pkl')\n",
    "\n",
    "# Função para fazer previsões com o modelo carregado\n",
    "def predict_survival_with_loaded_model(pclass, sex, age, sibsp, parch, fare, embarked):\n",
    "    # Codificando as variáveis categóricas\n",
    "    sex_encoded = label_encoder_sex.transform([sex])[0]\n",
    "    embarked_encoded = label_encoder_embarked.transform([embarked])[0]\n",
    "    \n",
    "    # Criando os dados de entrada no formato esperado pelo modelo\n",
    "    input_data = [[pclass, sex_encoded, age, sibsp, parch, fare, embarked_encoded]]\n",
    "    \n",
    "    # Fazendo a predição com o modelo carregado\n",
    "    prediction = loaded_model.predict(input_data)[0]\n",
    "    \n",
    "    # Retornando o resultado\n",
    "    return 'Sobreviveu' if prediction == 1 else 'Não sobreviveu'\n",
    "\n",
    "# Testando a função com o modelo carregado\n",
    "predict_survival_with_loaded_model(3, 'male', 22, 1, 0, 7.25, 'S')\n"
   ]
  },
  {
   "cell_type": "markdown",
   "id": "3cdfbb2a",
   "metadata": {},
   "source": [
    "\n",
    "## Fazendo Previsões com o Modelo Salvo\n",
    "\n",
    "Agora, podemos carregar o modelo salvo e fazer previsões a partir de novos dados. A função `predict_survival_with_loaded_model` aceita as características de um passageiro e retorna se ele sobreviveu ou não com base no modelo treinado.\n"
   ]
  }
 ],
 "metadata": {},
 "nbformat": 4,
 "nbformat_minor": 5
}